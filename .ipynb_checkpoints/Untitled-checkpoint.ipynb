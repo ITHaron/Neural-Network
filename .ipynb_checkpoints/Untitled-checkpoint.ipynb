{
 "cells": [
  {
   "cell_type": "code",
   "execution_count": 2,
   "id": "58cdb520",
   "metadata": {},
   "outputs": [],
   "source": [
    "from tensorflow.keras.preprocessing import image_dataset_from_directory\n",
    "from tensorflow.keras.preprocessing.image import img_to_array, load_img\n",
    "from tensorflow.keras.metrics import Recall, Precision\n",
    "from tqdm import tqdm\n",
    "\n",
    "import tensorflow.keras.layers as layers\n",
    "#import larq_compute_engine as lce\n",
    "import matplotlib.pyplot as plt\n",
    "import tensorflow as tf\n",
    "import pandas as pd\n",
    "import larq as lq"
   ]
  },
  {
   "cell_type": "code",
   "execution_count": 9,
   "id": "a997c552",
   "metadata": {},
   "outputs": [
    {
     "name": "stdout",
     "output_type": "stream",
     "text": [
      "Found 7350 files belonging to 21 classes.\n",
      "Found 2100 files belonging to 21 classes.\n",
      "Found 1050 files belonging to 21 classes.\n"
     ]
    }
   ],
   "source": [
    "batch_size = 32\n",
    "train = image_dataset_from_directory('./dataset/images_train_test_val/train', batch_size=batch_size)\n",
    "valid = image_dataset_from_directory('./dataset/images_train_test_val/validation', batch_size=batch_size)\n",
    "test = image_dataset_from_directory('./dataset/images_train_test_val/test', batch_size=batch_size)"
   ]
  },
  {
   "cell_type": "code",
   "execution_count": 10,
   "id": "3e142bec",
   "metadata": {},
   "outputs": [],
   "source": [
    "def create_model():\n",
    "    #Создаём ловарь с одинаковыми параметрами\n",
    "    kwargs = dict(\n",
    "                strides=1,\n",
    "                padding='same',\n",
    "                activation='relu'\n",
    "                )\n",
    "    \n",
    "    model = tf.keras.Sequential([\n",
    "        #Нормализируем исходные данные [0; 1] \n",
    "        layers.Normalization(axis=None,\n",
    "                            mean=0,\n",
    "                            variance=1,\n",
    "                            input_shape=(256,256,3)), \n",
    "        #2D слой 1\n",
    "        layers.Conv2D(\n",
    "            filters=8,\n",
    "            kernel_size=3,\n",
    "            **kwargs),\n",
    "        layers.MaxPooling2D(pool_size=2),\n",
    "        layers.BatchNormalization(momentum=0.9),\n",
    "        \n",
    "        #2D слой 2\n",
    "        layers.Conv2D(\n",
    "            filters=16,\n",
    "            kernel_size=5,\n",
    "            **kwargs),\n",
    "        layers.MaxPooling2D(pool_size=2),\n",
    "        layers.BatchNormalization(momentum=0.9),\n",
    "        \n",
    "        #2D слой 3\n",
    "        layers.Conv2D(\n",
    "            filters=32,\n",
    "            kernel_size=7,\n",
    "            **kwargs),\n",
    "        layers.MaxPooling2D(pool_size=2),\n",
    "        layers.BatchNormalization(momentum=0.9),\n",
    "        \n",
    "        #2D слой 4\n",
    "        layers.Conv2D(\n",
    "            filters=64,\n",
    "            kernel_size=9,\n",
    "            **kwargs),\n",
    "        layers.MaxPooling2D(pool_size=2),\n",
    "        layers.BatchNormalization(momentum=0.9),\n",
    "\n",
    "        #2D слой 5\n",
    "        layers.Conv2D(\n",
    "            filters=128,\n",
    "            kernel_size=11,\n",
    "            **kwargs),\n",
    "        layers.MaxPooling2D(pool_size=2),\n",
    "        layers.BatchNormalization(momentum=0.9),\n",
    "\n",
    "        layers.GlobalAveragePooling2D(),\n",
    "        #Линейный слой 1\n",
    "        layers.Dense(1024, activation='relu'),\n",
    "        #Линейный слой 2\n",
    "        layers.Dense(64, activation='relu'),\n",
    "        #Линейный слой 3\n",
    "        layers.Dropout(0.2),\n",
    "        #Линейный слой 4\n",
    "        layers.Dense(1, activation='sigmoid')\n",
    "    ])    \n",
    "    \n",
    "    model.compile(\n",
    "        optimizer='adam',\n",
    "        loss='binary_crossentropy',\n",
    "        metrics=['binary_accuracy', Precision(), Recall()]    \n",
    "    )\n",
    "\n",
    "    return model"
   ]
  },
  {
   "cell_type": "code",
   "execution_count": 11,
   "id": "6cfb669f",
   "metadata": {},
   "outputs": [],
   "source": [
    "def scheduler(epoch, lr):\n",
    "    if epoch < 80:\n",
    "        return lr\n",
    "    else:\n",
    "        return lr * tf.math.exp(-0.1)\n",
    "    \n",
    "lr_scheduler = tf.keras.callbacks.LearningRateScheduler(scheduler)"
   ]
  },
  {
   "cell_type": "code",
   "execution_count": null,
   "id": "6e842bea",
   "metadata": {},
   "outputs": [
    {
     "name": "stderr",
     "output_type": "stream",
     "text": [
      "\r",
      "  0%|                                                                                            | 0/5 [00:00<?, ?it/s]"
     ]
    },
    {
     "name": "stdout",
     "output_type": "stream",
     "text": [
      "Epoch 1/100\n",
      "230/230 [==============================] - 1637s 7s/step - loss: -528747.3750 - binary_accuracy: 0.0476 - precision: 0.9524 - recall: 0.9974 - val_loss: -3074552.2500 - val_binary_accuracy: 0.0476 - val_precision: 0.9524 - val_recall: 1.0000 - lr: 0.0010\n",
      "Epoch 2/100\n",
      "230/230 [==============================] - 1710s 7s/step - loss: -14999831.0000 - binary_accuracy: 0.0476 - precision: 0.9524 - recall: 1.0000 - val_loss: -49151968.0000 - val_binary_accuracy: 0.0476 - val_precision: 0.9524 - val_recall: 1.0000 - lr: 0.0010\n",
      "Epoch 3/100\n",
      "176/230 [=====================>........] - ETA: 6:43 - loss: -82338400.0000 - binary_accuracy: 0.0455 - precision: 0.9517 - recall: 1.0000"
     ]
    }
   ],
   "source": [
    "iterations_count = 5\n",
    "for i in tqdm(range(iterations_count)):\n",
    "    model = create_model()\n",
    "    history = model.fit(\n",
    "        train,\n",
    "        validation_data=valid,\n",
    "        batch_size=batch_size,\n",
    "        epochs=100,\n",
    "        shuffle=True,\n",
    "        callbacks=[lr_scheduler],\n",
    "        # verbose=0\n",
    "    )\n",
    "    df_history = pd.DataFrame(history.history)\n",
    "    df_history.loc[:, ['loss', 'val_loss']].plot(xlabel='Epochs', ylabel='Loss')\n",
    "    df_history.loc[:, ['binary_accuracy', 'val_binary_accuracy']].plot(xlabel='Epochs', ylabel='Accuracy')\n",
    "    print(model.evaluate(test, batch_size=batch_size))\n",
    "   # with open(f\"full_model{i}.tflite\", \"wb\") as flatbuffer_file:\n",
    "   #     flatbuffer_bytes = lce.convert_keras_model(model)\n",
    " #       flatbuffer_file.write(flatbuffer_bytes)\n",
    "    "
   ]
  },
  {
   "cell_type": "code",
   "execution_count": null,
   "id": "8f0ee0e2",
   "metadata": {},
   "outputs": [],
   "source": [
    "model.summary()\n",
    "lq.models.summary(model)"
   ]
  }
 ],
 "metadata": {
  "kernelspec": {
   "display_name": "Python 3 (ipykernel)",
   "language": "python",
   "name": "python3"
  },
  "language_info": {
   "codemirror_mode": {
    "name": "ipython",
    "version": 3
   },
   "file_extension": ".py",
   "mimetype": "text/x-python",
   "name": "python",
   "nbconvert_exporter": "python",
   "pygments_lexer": "ipython3",
   "version": "3.10.0"
  }
 },
 "nbformat": 4,
 "nbformat_minor": 5
}
