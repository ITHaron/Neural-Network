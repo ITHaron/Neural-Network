{
  "cells": [
    {
      "cell_type": "code",
      "source": [
        "from google.colab import drive\n",
        "drive.mount('/content/drive')"
      ],
      "metadata": {
        "id": "9890jDjJHJjj",
        "colab": {
          "base_uri": "https://localhost:8080/"
        },
        "outputId": "298a003c-5935-4e98-ef82-ff3ec9b3c595"
      },
      "id": "9890jDjJHJjj",
      "execution_count": null,
      "outputs": [
        {
          "output_type": "stream",
          "name": "stdout",
          "text": [
            "Mounted at /content/drive\n"
          ]
        }
      ]
    },
    {
      "cell_type": "markdown",
      "source": [
        "# Загрузка датасета"
      ],
      "metadata": {
        "id": "1Iv2X-yhLrpo"
      },
      "id": "1Iv2X-yhLrpo"
    },
    {
      "cell_type": "markdown",
      "source": [
        "Библиотеки"
      ],
      "metadata": {
        "id": "hyRzG5Csdcsw"
      },
      "id": "hyRzG5Csdcsw"
    },
    {
      "cell_type": "code",
      "source": [
        "import os\n",
        "import tensorflow as tf"
      ],
      "metadata": {
        "id": "hFadoNUtdcM7"
      },
      "id": "hFadoNUtdcM7",
      "execution_count": null,
      "outputs": []
    },
    {
      "cell_type": "markdown",
      "source": [
        "Пути к датасету\n"
      ],
      "metadata": {
        "id": "eTBq0aVkQ4lu"
      },
      "id": "eTBq0aVkQ4lu"
    },
    {
      "cell_type": "code",
      "source": [
        "dir_google_drive = \"/content/drive/MyDrive/dataset\"\n",
        "train_data = \"images_train_test_val/train\"\n",
        "test_data = \"images_train_test_val/test\"\n",
        "valid_data = \"images_train_test_val/validation\"\n",
        "\n",
        "dir_train_data = os.path.join(dir_google_drive, train_data)\n",
        "dir_test_data = os.path.join(dir_google_drive, test_data)\n",
        "dir_valid_data = os.path.join(dir_google_drive, valid_data)"
      ],
      "metadata": {
        "id": "rsTm1BCARE_1"
      },
      "id": "rsTm1BCARE_1",
      "execution_count": null,
      "outputs": []
    },
    {
      "cell_type": "markdown",
      "source": [
        "Загрузка выборки(без предобработки)"
      ],
      "metadata": {
        "id": "FIcXPdIAbxUM"
      },
      "id": "FIcXPdIAbxUM"
    },
    {
      "cell_type": "code",
      "source": [
        "param = dict(\n",
        "    image_size = (224,224),\n",
        "    label_mode = \"categorical\",\n",
        "    batch_size = 32\n",
        "    )\n",
        "\n",
        "train_data = tf.keras.preprocessing.image_dataset_from_directory(dir_train_data,**param)\n",
        "test_data = tf.keras.preprocessing.image_dataset_from_directory(dir_test_data,**param)\n",
        "val_data = tf.keras.preprocessing.image_dataset_from_directory(dir_valid_data,**param)\n"
      ],
      "metadata": {
        "id": "I7xRFVvHbnHz",
        "colab": {
          "base_uri": "https://localhost:8080/"
        },
        "outputId": "a97eda37-0c02-4e0d-b5f5-42c9f2c5ef7a"
      },
      "id": "I7xRFVvHbnHz",
      "execution_count": null,
      "outputs": [
        {
          "output_type": "stream",
          "name": "stdout",
          "text": [
            "Found 7350 files belonging to 21 classes.\n",
            "Found 1050 files belonging to 21 classes.\n",
            "Found 2100 files belonging to 21 classes.\n"
          ]
        }
      ]
    },
    {
      "cell_type": "markdown",
      "source": [
        "Проверяем выборку"
      ],
      "metadata": {
        "id": "y0Hs91-OP7um"
      },
      "id": "y0Hs91-OP7um"
    },
    {
      "cell_type": "markdown",
      "source": [
        "# Работа с моделью"
      ],
      "metadata": {
        "id": "PrQm0WsZwmW6"
      },
      "id": "PrQm0WsZwmW6"
    },
    {
      "cell_type": "markdown",
      "source": [
        "Библиотеки"
      ],
      "metadata": {
        "id": "9ZdhsfozHTET"
      },
      "id": "9ZdhsfozHTET"
    },
    {
      "cell_type": "code",
      "source": [
        "import tensorflow as tf\n",
        "import numpy as np\n",
        "import os"
      ],
      "metadata": {
        "id": "1XjGDgA3HYjI"
      },
      "id": "1XjGDgA3HYjI",
      "execution_count": null,
      "outputs": []
    },
    {
      "cell_type": "markdown",
      "source": [
        "Переменные"
      ],
      "metadata": {
        "id": "pHePYDK2Lxhm"
      },
      "id": "pHePYDK2Lxhm"
    },
    {
      "cell_type": "code",
      "source": [
        "dir_google_drive = \"/content/drive/MyDrive\"\n",
        "dir_local = \"Models\"\n",
        "\n",
        "epochs = 10\n",
        "testing_steps = len(train_data)\n",
        "validation_steps = len(val_data)"
      ],
      "metadata": {
        "id": "gZOwVPIVLxFo",
        "colab": {
          "base_uri": "https://localhost:8080/",
          "height": 227
        },
        "outputId": "52534e58-1bfa-42b6-be9f-5acadb79ea09"
      },
      "id": "gZOwVPIVLxFo",
      "execution_count": null,
      "outputs": [
        {
          "output_type": "error",
          "ename": "NameError",
          "evalue": "ignored",
          "traceback": [
            "\u001b[0;31m---------------------------------------------------------------------------\u001b[0m",
            "\u001b[0;31mNameError\u001b[0m                                 Traceback (most recent call last)",
            "\u001b[0;32m<ipython-input-3-a01849dcc7e8>\u001b[0m in \u001b[0;36m<module>\u001b[0;34m()\u001b[0m\n\u001b[1;32m      3\u001b[0m \u001b[0;34m\u001b[0m\u001b[0m\n\u001b[1;32m      4\u001b[0m \u001b[0mepochs\u001b[0m \u001b[0;34m=\u001b[0m \u001b[0;36m10\u001b[0m\u001b[0;34m\u001b[0m\u001b[0;34m\u001b[0m\u001b[0m\n\u001b[0;32m----> 5\u001b[0;31m \u001b[0mtesting_steps\u001b[0m \u001b[0;34m=\u001b[0m \u001b[0mlen\u001b[0m\u001b[0;34m(\u001b[0m\u001b[0mtrain_data\u001b[0m\u001b[0;34m)\u001b[0m\u001b[0;34m\u001b[0m\u001b[0;34m\u001b[0m\u001b[0m\n\u001b[0m\u001b[1;32m      6\u001b[0m \u001b[0mvalidation_steps\u001b[0m \u001b[0;34m=\u001b[0m \u001b[0mlen\u001b[0m\u001b[0;34m(\u001b[0m\u001b[0mval_data\u001b[0m\u001b[0;34m)\u001b[0m\u001b[0;34m\u001b[0m\u001b[0;34m\u001b[0m\u001b[0m\n",
            "\u001b[0;31mNameError\u001b[0m: name 'train_data' is not defined"
          ]
        }
      ]
    },
    {
      "cell_type": "markdown",
      "source": [
        "Создание модели"
      ],
      "metadata": {
        "id": "qJPwZgUrMEGY"
      },
      "id": "qJPwZgUrMEGY"
    },
    {
      "cell_type": "code",
      "source": [
        "def create_model():\n",
        "  eff_base = tf.keras.applications.EfficientNetB5(include_top = False)\n",
        "  #eff_base.trainable = False\n",
        "  \n",
        "  inputs = tf.keras.Input(shape=(224,224,3))\n",
        "  x = eff_base(inputs)\n",
        "  x = tf.keras.layers.GlobalAveragePooling2D()(x)\n",
        "  outputs = tf.keras.layers.Dense(21, activation=\"softmax\")(x)\n",
        "  return tf.keras.Model(inputs, outputs)"
      ],
      "metadata": {
        "id": "Vv_MdZG9MDck"
      },
      "id": "Vv_MdZG9MDck",
      "execution_count": null,
      "outputs": []
    },
    {
      "cell_type": "markdown",
      "source": [
        "Сохранение и загрузка модели"
      ],
      "metadata": {
        "id": "i2CMDx-dHbTx"
      },
      "id": "i2CMDx-dHbTx"
    },
    {
      "cell_type": "code",
      "source": [
        "def save_weights(model, path, name):\n",
        "  model.save_weights(os.path.join(path, name))\n",
        "\n",
        "def load_weights(model, path, name):\n",
        "  model.load_weights(os.path.join(path, name))\n",
        "\n",
        "def save_model(model, path):\n",
        "  model.save(path)\n",
        "  np.save(os.path.join(path,'history.npy'), model.history)\n",
        "\n",
        "def load_model(path):\n",
        "  return tf.keras.models.load_model(path), np.load(os.path.join(path,'history.npy'),allow_pickle='TRUE').item()"
      ],
      "metadata": {
        "id": "S6dSg1aNHa_w"
      },
      "id": "S6dSg1aNHa_w",
      "execution_count": null,
      "outputs": []
    },
    {
      "cell_type": "markdown",
      "source": [
        "Компиляция модели"
      ],
      "metadata": {
        "id": "jaaqFiznZ7j9"
      },
      "id": "jaaqFiznZ7j9"
    },
    {
      "cell_type": "code",
      "source": [
        "eff_model =  create_model()\n",
        "\n",
        "eff_model.compile(\n",
        "    loss = tf.keras.losses.categorical_crossentropy,\n",
        "    optimizer = tf.keras.optimizers.Adam(learning_rate= 0.001),\n",
        "    metrics = [\"accuracy\"]\n",
        ")"
      ],
      "metadata": {
        "id": "HTNj0MKCZfT3"
      },
      "id": "HTNj0MKCZfT3",
      "execution_count": null,
      "outputs": []
    },
    {
      "cell_type": "markdown",
      "source": [
        "Обучение"
      ],
      "metadata": {
        "id": "FFqWrL02ZkWJ"
      },
      "id": "FFqWrL02ZkWJ"
    },
    {
      "cell_type": "code",
      "source": [
        "eff_model.fit( train_data,\n",
        "             epochs = epochs,\n",
        "             steps_per_epoch = testing_steps,\n",
        "             validation_data = val_data,\n",
        "             validation_steps = validation_steps\n",
        "             )"
      ],
      "metadata": {
        "id": "EBers4s1Xoy5",
        "colab": {
          "base_uri": "https://localhost:8080/"
        },
        "outputId": "fd0bb070-2fc8-4e73-9894-7b5443776aff"
      },
      "id": "EBers4s1Xoy5",
      "execution_count": null,
      "outputs": [
        {
          "output_type": "stream",
          "name": "stdout",
          "text": [
            "Epoch 1/10\n",
            "230/230 [==============================] - 1251s 5s/step - loss: 0.4297 - accuracy: 0.8790 - val_loss: 0.3172 - val_accuracy: 0.9257\n",
            "Epoch 2/10\n",
            "230/230 [==============================] - 242s 1s/step - loss: 0.1692 - accuracy: 0.9501 - val_loss: 0.4044 - val_accuracy: 0.9424\n",
            "Epoch 3/10\n",
            "230/230 [==============================] - 246s 1s/step - loss: 0.1257 - accuracy: 0.9653 - val_loss: 0.1991 - val_accuracy: 0.9533\n",
            "Epoch 4/10\n",
            "230/230 [==============================] - 246s 1s/step - loss: 0.1231 - accuracy: 0.9634 - val_loss: 0.1766 - val_accuracy: 0.9605\n",
            "Epoch 5/10\n",
            "230/230 [==============================] - 246s 1s/step - loss: 0.0744 - accuracy: 0.9769 - val_loss: 0.1840 - val_accuracy: 0.9576\n",
            "Epoch 6/10\n",
            "230/230 [==============================] - 248s 1s/step - loss: 0.0621 - accuracy: 0.9822 - val_loss: 0.0555 - val_accuracy: 0.9857\n",
            "Epoch 7/10\n",
            "230/230 [==============================] - 248s 1s/step - loss: 0.0592 - accuracy: 0.9827 - val_loss: 0.1160 - val_accuracy: 0.9752\n",
            "Epoch 8/10\n",
            "230/230 [==============================] - 248s 1s/step - loss: 0.0692 - accuracy: 0.9814 - val_loss: 0.0642 - val_accuracy: 0.9848\n",
            "Epoch 9/10\n",
            "230/230 [==============================] - 249s 1s/step - loss: 0.0593 - accuracy: 0.9820 - val_loss: 0.1454 - val_accuracy: 0.9648\n",
            "Epoch 10/10\n",
            "230/230 [==============================] - 247s 1s/step - loss: 0.0517 - accuracy: 0.9854 - val_loss: 0.0770 - val_accuracy: 0.9786\n"
          ]
        },
        {
          "output_type": "execute_result",
          "data": {
            "text/plain": [
              "<keras.callbacks.History at 0x7f935b3320d0>"
            ]
          },
          "metadata": {},
          "execution_count": 22
        }
      ]
    },
    {
      "cell_type": "markdown",
      "source": [
        "Сохранение модели"
      ],
      "metadata": {
        "id": "2ZnfM9hXaI8b"
      },
      "id": "2ZnfM9hXaI8b"
    },
    {
      "cell_type": "code",
      "source": [
        "save_model(eff_model, '/content/drive/MyDrive/Models/Model_1')"
      ],
      "metadata": {
        "id": "qsm1ZXkA94MM",
        "colab": {
          "base_uri": "https://localhost:8080/"
        },
        "outputId": "cb71135a-3b67-4687-c2f5-755ca7930495"
      },
      "id": "qsm1ZXkA94MM",
      "execution_count": null,
      "outputs": [
        {
          "output_type": "stream",
          "name": "stdout",
          "text": [
            "INFO:tensorflow:Assets written to: /content/drive/MyDrive/Model_1/assets\n",
            "INFO:tensorflow:Assets written to: ram://db9090d6-c1ae-4d2a-8aec-ba52a4d46c9a/assets\n"
          ]
        }
      ]
    },
    {
      "cell_type": "code",
      "source": [
        "model, history = load_model(os.path.join(dir_google_drive, \"Model_1\"))"
      ],
      "metadata": {
        "id": "iGu8bTmS9cV6"
      },
      "id": "iGu8bTmS9cV6",
      "execution_count": null,
      "outputs": []
    },
    {
      "cell_type": "markdown",
      "source": [
        "# Графики"
      ],
      "metadata": {
        "id": "JtUduWWmHnW-"
      },
      "id": "JtUduWWmHnW-"
    },
    {
      "cell_type": "markdown",
      "source": [
        "Библиотеки"
      ],
      "metadata": {
        "id": "qfJx8XNDQlpN"
      },
      "id": "qfJx8XNDQlpN"
    },
    {
      "cell_type": "code",
      "source": [
        "import matplotlib.pyplot as plt"
      ],
      "metadata": {
        "id": "02TyMp1CQkPK"
      },
      "id": "02TyMp1CQkPK",
      "execution_count": null,
      "outputs": []
    },
    {
      "cell_type": "markdown",
      "source": [
        "Методы для вывода графиков"
      ],
      "metadata": {
        "id": "cBSvpUZGQjr5"
      },
      "id": "cBSvpUZGQjr5"
    },
    {
      "cell_type": "code",
      "source": [
        "def show_final_history(history):\n",
        "    \n",
        "    plt.style.use(\"ggplot\")\n",
        "    fig, ax = plt.subplots(1,2,figsize=(15,5))\n",
        "    \n",
        "    ax[0].set_title('Loss')\n",
        "    ax[1].set_title('Accuracy')\n",
        "    \n",
        "    ax[0].plot(history.history['loss'], label=\"Training Loss\")\n",
        "    ax[0].plot(history.history['val_loss'], label=\"Validation Loss\")\n",
        "    ax[1].plot(history.history['accuracy'], label=\"Training Accuracy\")\n",
        "    ax[1].plot(history.history['val_accuracy'], label=\"Validation Accuracy\")\n",
        "    \n",
        "    ax[0].legend(loc='upper right')\n",
        "    ax[1].legend(loc='lower right')\n",
        "    \n",
        "    plt.show();\n",
        "    pass"
      ],
      "metadata": {
        "id": "g6VHYjCImHJ2"
      },
      "id": "g6VHYjCImHJ2",
      "execution_count": null,
      "outputs": []
    },
    {
      "cell_type": "markdown",
      "source": [
        "Вывод"
      ],
      "metadata": {
        "id": "LszA5WdKQzSh"
      },
      "id": "LszA5WdKQzSh"
    },
    {
      "cell_type": "code",
      "source": [
        "\n",
        "#print(eff_model.history)\n",
        "show_final_history(history)"
      ],
      "metadata": {
        "colab": {
          "base_uri": "https://localhost:8080/",
          "height": 337
        },
        "id": "0Rw1hnkMmcfv",
        "outputId": "0f67c0a2-896d-490e-8b89-c8a535d6fa19"
      },
      "id": "0Rw1hnkMmcfv",
      "execution_count": null,
      "outputs": [
        {
          "output_type": "display_data",
          "data": {
            "text/plain": [
              "<Figure size 1080x360 with 2 Axes>"
            ],
            "image/png": "[encoded data removed]"
          },
          "metadata": {}
        }
      ]
    },
    {
      "cell_type": "code",
      "source": [
        "model_evaluation = model.evaluate(test_data)\n",
        "print(f\"Model Accuarcy: {model_evaluation[1] * 100: 0.2f} %\")"
      ],
      "metadata": {
        "colab": {
          "base_uri": "https://localhost:8080/"
        },
        "id": "7rBWTHAHnr7S",
        "outputId": "336ad9d4-085f-40f8-a9fd-e6b89b9788c2"
      },
      "id": "7rBWTHAHnr7S",
      "execution_count": null,
      "outputs": [
        {
          "output_type": "stream",
          "name": "stdout",
          "text": [
            "33/33 [==============================] - 149s 3s/step - loss: 0.0895 - accuracy: 0.9686\n",
            "Model Accuarcy:  96.86 %\n"
          ]
        }
      ]
    },
    {
      "cell_type": "markdown",
      "source": [
        "# Нужный мусор"
      ],
      "metadata": {
        "id": "PYujdsgwbFng"
      },
      "id": "PYujdsgwbFng"
    },
    {
      "cell_type": "markdown",
      "source": [
        "Предобработка выборки"
      ],
      "metadata": {
        "id": "aQhjpcMFDnXU"
      },
      "id": "aQhjpcMFDnXU"
    },
    {
      "cell_type": "code",
      "source": [
        "train_gen = tf.keras.preprocessing.image.ImageDataGenerator(\n",
        "    rescale = 1/255.,       # коэффициент масштабирования\n",
        "    #shear_range = 0.2,      # Интенсивность сдвига\n",
        "    #zoom_range = 0.2,       # Диапазон случайного увеличения\n",
        "    #horizontal_flip = True  # Произвольный поворот по горизонтали\n",
        "    )\n",
        "\n",
        "test_gen = tf.keras.preprocessing.image.ImageDataGenerator(rescale = 1/255.)\n",
        "val_gen = tf.keras.preprocessing.image.ImageDataGenerator(rescale = 1/255.)"
      ],
      "metadata": {
        "id": "JJpou6X6DqRa"
      },
      "id": "JJpou6X6DqRa",
      "execution_count": null,
      "outputs": []
    },
    {
      "cell_type": "markdown",
      "source": [
        "Загрузка выборки (с предобработкой)"
      ],
      "metadata": {
        "id": "xC_DM2-t_Qky"
      },
      "id": "xC_DM2-t_Qky"
    },
    {
      "cell_type": "code",
      "source": [
        "param = dict(\n",
        "    target_size = (224,224),\n",
        "    class_mode = \"categorical\",\n",
        "    batch_size = 32\n",
        "    )\n",
        "\n",
        "train_data = train_gen.flow_from_directory(dir_train_data,**param)\n",
        "test_data = test_gen.flow_from_directory(dir_test_data,**param)\n",
        "val_data = val_gen.flow_from_directory(dir_valid_data,**param)"
      ],
      "metadata": {
        "colab": {
          "base_uri": "https://localhost:8080/"
        },
        "id": "ylLG0uQYXTlO",
        "outputId": "60734572-610b-4adb-8ebc-73239c9d9cf6"
      },
      "id": "ylLG0uQYXTlO",
      "execution_count": null,
      "outputs": [
        {
          "output_type": "stream",
          "name": "stdout",
          "text": [
            "Found 7350 images belonging to 21 classes.\n",
            "Found 1050 images belonging to 21 classes.\n",
            "Found 2100 images belonging to 21 classes.\n"
          ]
        }
      ]
    },
    {
      "cell_type": "code",
      "source": [
        "import matplotlib.pyplot as plt"
      ],
      "metadata": {
        "id": "RkLY6Z7Xamw5"
      },
      "id": "RkLY6Z7Xamw5",
      "execution_count": null,
      "outputs": []
    },
    {
      "cell_type": "code",
      "source": [
        "#class_label = list(train_data.class_indices.keys())\n",
        "image_set, label_set = train_data.next()  \n",
        "\n",
        "plt.figure(figsize=(16,12))\n",
        "for i in range(12):\n",
        "  plt.subplot(3,4,i+1)\n",
        "  plt.imshow(image_set[i])\n",
        "  #plt.title(class_label[tf.argmax(label_set[i])])\n",
        "  plt.title(class_label[tf.argmax(label_set[i])])\n",
        "  plt.axis(\"off\")"
      ],
      "metadata": {
        "colab": {
          "base_uri": "https://localhost:8080/",
          "height": 246
        },
        "id": "VWDcsgBRP6FY",
        "outputId": "a2b545f5-de23-469f-c151-236fd7ae0c00"
      },
      "id": "VWDcsgBRP6FY",
      "execution_count": null,
      "outputs": [
        {
          "output_type": "error",
          "ename": "AttributeError",
          "evalue": "ignored",
          "traceback": [
            "\u001b[0;31m---------------------------------------------------------------------------\u001b[0m",
            "\u001b[0;31mAttributeError\u001b[0m                            Traceback (most recent call last)",
            "\u001b[0;32m<ipython-input-44-d4fae1ef338c>\u001b[0m in \u001b[0;36m<module>\u001b[0;34m()\u001b[0m\n\u001b[0;32m----> 1\u001b[0;31m \u001b[0mclass_label\u001b[0m \u001b[0;34m=\u001b[0m \u001b[0mlist\u001b[0m\u001b[0;34m(\u001b[0m\u001b[0mtrain_data\u001b[0m\u001b[0;34m.\u001b[0m\u001b[0mclass_indices\u001b[0m\u001b[0;34m.\u001b[0m\u001b[0mkeys\u001b[0m\u001b[0;34m(\u001b[0m\u001b[0;34m)\u001b[0m\u001b[0;34m)\u001b[0m\u001b[0;34m\u001b[0m\u001b[0;34m\u001b[0m\u001b[0m\n\u001b[0m\u001b[1;32m      2\u001b[0m \u001b[0mimage_set\u001b[0m\u001b[0;34m,\u001b[0m \u001b[0mlabel_set\u001b[0m \u001b[0;34m=\u001b[0m \u001b[0mtrain_data\u001b[0m\u001b[0;34m.\u001b[0m\u001b[0mnext\u001b[0m\u001b[0;34m(\u001b[0m\u001b[0;34m)\u001b[0m\u001b[0;34m\u001b[0m\u001b[0;34m\u001b[0m\u001b[0m\n\u001b[1;32m      3\u001b[0m \u001b[0;34m\u001b[0m\u001b[0m\n\u001b[1;32m      4\u001b[0m \u001b[0mplt\u001b[0m\u001b[0;34m.\u001b[0m\u001b[0mfigure\u001b[0m\u001b[0;34m(\u001b[0m\u001b[0mfigsize\u001b[0m\u001b[0;34m=\u001b[0m\u001b[0;34m(\u001b[0m\u001b[0;36m16\u001b[0m\u001b[0;34m,\u001b[0m\u001b[0;36m12\u001b[0m\u001b[0;34m)\u001b[0m\u001b[0;34m)\u001b[0m\u001b[0;34m\u001b[0m\u001b[0;34m\u001b[0m\u001b[0m\n\u001b[1;32m      5\u001b[0m \u001b[0;32mfor\u001b[0m \u001b[0mi\u001b[0m \u001b[0;32min\u001b[0m \u001b[0mrange\u001b[0m\u001b[0;34m(\u001b[0m\u001b[0;36m12\u001b[0m\u001b[0;34m)\u001b[0m\u001b[0;34m:\u001b[0m\u001b[0;34m\u001b[0m\u001b[0;34m\u001b[0m\u001b[0m\n",
            "\u001b[0;31mAttributeError\u001b[0m: 'BatchDataset' object has no attribute 'class_indices'"
          ]
        }
      ]
    },
    {
      "cell_type": "code",
      "source": [
        "from tensorflow.keras import layers\n",
        "\n",
        "model = tf.keras.Sequential([\n",
        "                             layers.Conv2D(filters= 32, kernel_size= 2, activation=\"relu\", input_shape=(224,224,3)),\n",
        "                             layers.MaxPooling2D(pool_size= 2),\n",
        "\n",
        "                             layers.Conv2D(filters = 32, kernel_size= 2, activation=\"relu\"),\n",
        "                             layers.MaxPooling2D(pool_size= 2),\n",
        "\n",
        "                             layers.Conv2D(filters= 32, kernel_size= 2, activation= \"relu\"),\n",
        "                             layers.MaxPooling2D(pool_size=2),\n",
        "\n",
        "                             layers.Conv2D(filters= 32, kernel_size= 2, activation= \"relu\"),\n",
        "                             layers.MaxPooling2D(pool_size=2),\n",
        "\n",
        "                            \n",
        "                             layers.Conv2D(filters= 32, kernel_size= 2, activation= \"relu\"),\n",
        "                             layers.Conv2D(filters= 32, kernel_size= 2, activation= \"relu\"),\n",
        "                             layers.Conv2D(filters= 32, kernel_size= 2, activation= \"relu\"),\n",
        "\n",
        "                             layers.Flatten(),\n",
        "\n",
        "                             layers.Dense(256, activation=\"relu\"),\n",
        "\n",
        "                             layers.Dense(21, activation=\"softmax\")\n",
        "\n",
        "\n",
        "])"
      ],
      "metadata": {
        "id": "qK_GCuOUbQJs"
      },
      "id": "qK_GCuOUbQJs",
      "execution_count": null,
      "outputs": []
    },
    {
      "cell_type": "code",
      "source": [
        "model.compile(\n",
        "    loss = tf.keras.losses.categorical_crossentropy,\n",
        "    optimizer = tf.keras.optimizers.Adam(learning_rate= 0.001),\n",
        "    metrics = [\"accuracy\"]\n",
        ")"
      ],
      "metadata": {
        "id": "pRqa8yiObVMI"
      },
      "id": "pRqa8yiObVMI",
      "execution_count": null,
      "outputs": []
    },
    {
      "cell_type": "code",
      "source": [
        "epochs = 10\n",
        "testing_steps = len(train_data)\n",
        "validation_steps = len(val_data)"
      ],
      "metadata": {
        "id": "P944D0Ch65LN"
      },
      "id": "P944D0Ch65LN",
      "execution_count": null,
      "outputs": []
    },
    {
      "cell_type": "code",
      "source": [
        "model.fit(\n",
        "    train_data,\n",
        "    epochs = epochs,\n",
        "    steps_per_epoch = testing_steps,\n",
        "    validation_data = val_data,\n",
        "    validation_steps = validation_steps\n",
        ")"
      ],
      "metadata": {
        "id": "k7c_vELXbXg0"
      },
      "id": "k7c_vELXbXg0",
      "execution_count": null,
      "outputs": []
    },
    {
      "cell_type": "code",
      "source": [
        "model_evaluation = model.evaluate(test_data)\n",
        "print(f\"Model Accuarcy: {model_evaluation[1] * 100: 0.2f} %\")"
      ],
      "metadata": {
        "colab": {
          "base_uri": "https://localhost:8080/"
        },
        "id": "IKCAk9IOlS5s",
        "outputId": "53f85225-01cd-4d25-93e5-a20542e348fd"
      },
      "id": "IKCAk9IOlS5s",
      "execution_count": null,
      "outputs": [
        {
          "output_type": "stream",
          "name": "stdout",
          "text": [
            "33/33 [==============================] - 268s 8s/step - loss: 1.3317 - accuracy: 0.5514\n"
          ]
        }
      ]
    }
  ],
  "metadata": {
    "kernelspec": {
      "display_name": "Python 3 (ipykernel)",
      "language": "python",
      "name": "python3"
    },
    "language_info": {
      "codemirror_mode": {
        "name": "ipython",
        "version": 3
      },
      "file_extension": ".py",
      "mimetype": "text/x-python",
      "name": "python",
      "nbconvert_exporter": "python",
      "pygments_lexer": "ipython3",
      "version": "3.10.0"
    },
    "colab": {
      "name": "Main.ipynb\"",
      "provenance": [],
      "collapsed_sections": []
    },
    "accelerator": "GPU"
  },
  "nbformat": 4,
  "nbformat_minor": 5
}